{
 "cells": [
  {
   "cell_type": "markdown",
   "metadata": {},
   "source": [
    "# XML example and exercise\n",
    "****\n",
    "+ study examples of accessing nodes in XML tree structure  \n",
    "+ work on exercise to be completed and submitted\n",
    "****\n",
    "+ reference: https://docs.python.org/2.7/library/xml.etree.elementtree.html\n",
    "+ data source: http://www.dbis.informatik.uni-goettingen.de/Mondial\n",
    "****"
   ]
  },
  {
   "cell_type": "code",
   "execution_count": 1,
   "metadata": {
    "collapsed": true
   },
   "outputs": [],
   "source": [
    "from xml.etree import ElementTree as ET"
   ]
  },
  {
   "cell_type": "markdown",
   "metadata": {},
   "source": [
    "## XML example\n",
    "\n",
    "+ for details about tree traversal and iterators, see https://docs.python.org/2.7/library/xml.etree.elementtree.html"
   ]
  },
  {
   "cell_type": "code",
   "execution_count": 2,
   "metadata": {
    "collapsed": true
   },
   "outputs": [],
   "source": [
    "document_tree = ET.parse( './data/mondial_database_less.xml' )"
   ]
  },
  {
   "cell_type": "code",
   "execution_count": 4,
   "metadata": {
    "collapsed": false
   },
   "outputs": [
    {
     "name": "stdout",
     "output_type": "stream",
     "text": [
      "Albania\n",
      "Greece\n",
      "Macedonia\n",
      "Serbia\n",
      "Montenegro\n",
      "Kosovo\n",
      "Andorra\n"
     ]
    }
   ],
   "source": [
    "# print names of all countries\n",
    "for child in document_tree.getroot():\n",
    "    print child.find('name').text"
   ]
  },
  {
   "cell_type": "code",
   "execution_count": 4,
   "metadata": {
    "collapsed": false,
    "scrolled": true
   },
   "outputs": [
    {
     "name": "stdout",
     "output_type": "stream",
     "text": [
      "* Albania: Tirana, Shkodër, Durrës, Vlorë, Elbasan, Korçë\n",
      "* Greece: Komotini, Kavala, Athina, Peiraias, Peristeri, Acharnes, Patra, Kozani, Kerkyra, Ioannina, Thessaloniki, Iraklio, Chania, Ermoupoli, Rhodes, Tripoli, Lamia, Chalkida, Larissa, Volos, Mytilini, Karyes\n",
      "* Macedonia: Skopje, Kumanovo\n",
      "* Serbia: Beograd, Novi Sad, Niš\n",
      "* Montenegro: Podgorica\n",
      "* Kosovo: Prishtine\n",
      "* Andorra: Andorra la Vella\n"
     ]
    }
   ],
   "source": [
    "# print names of all countries and their cities\n",
    "for element in document_tree.iterfind('country'):\n",
    "    print '* ' + element.find('name').text + ':',\n",
    "    capitals_string = ''\n",
    "    for subelement in element.getiterator('city'):\n",
    "        capitals_string += subelement.find('name').text + ', '\n",
    "    print capitals_string[:-2]"
   ]
  },
  {
   "cell_type": "markdown",
   "metadata": {},
   "source": [
    "****\n",
    "## XML exercise\n",
    "\n",
    "Using data in 'data/mondial_database.xml', the examples above, and refering to https://docs.python.org/2.7/library/xml.etree.elementtree.html, find\n",
    "\n",
    "1. 10 countries with the lowest infant mortality rates\n",
    "2. 10 cities with the largest population\n",
    "3. 10 ethnic groups with the largest overall populations (sum of best/latest estimates over all countries)\n",
    "4. name and country of a) longest river, b) largest lake and c) airport at highest elevation"
   ]
  },
  {
   "cell_type": "code",
   "execution_count": 55,
   "metadata": {
    "collapsed": true
   },
   "outputs": [],
   "source": [
    "document = ET.parse( './data/mondial_database.xml' )"
   ]
  },
  {
   "cell_type": "markdown",
   "metadata": {},
   "source": [
    "1) 10 countries with the lowest infant mortality rates"
   ]
  },
  {
   "cell_type": "code",
   "execution_count": 37,
   "metadata": {
    "collapsed": false
   },
   "outputs": [
    {
     "name": "stdout",
     "output_type": "stream",
     "text": [
      "1 = Western Sahara, 145.82\n",
      "2 = Afghanistan, 117.23\n",
      "3 = Mali, 104.34\n",
      "4 = Somalia, 100.14\n",
      "5 = Central African Republic, 92.86\n",
      "6 = Guinea-Bissau, 90.92\n",
      "7 = Chad, 90.3\n",
      "8 = Niger, 86.27\n",
      "9 = Angola, 79.99\n",
      "10 = Burkina Faso, 76.8\n"
     ]
    }
   ],
   "source": [
    "countries = []\n",
    "mortality = []\n",
    "root = document.getroot()\n",
    "for child in root.iter('country'):\n",
    "    countries.append(child.find('name').text)\n",
    "    mortality_node = child.find('infant_mortality')\n",
    "    if not mortality_node is None:\n",
    "        mortality.append(float(child.find('infant_mortality').text))\n",
    "    else: # missing value for mortality rates\n",
    "        mortality.append(-1) # -1 convenient when sorting mortality rates \n",
    "\n",
    "country_mortality = zip(countries, mortality)\n",
    "\n",
    "country_mortality = sorted(country_mortality, key=lambda tup: tup[1], reverse=True)\n",
    "for i, tup in enumerate(country_mortality[:10]):\n",
    "    print \"{} = {}, {}\".format(i+1, tup[0], tup[1]) "
   ]
  },
  {
   "cell_type": "markdown",
   "metadata": {},
   "source": [
    "2) 10 cities with the largest population"
   ]
  },
  {
   "cell_type": "code",
   "execution_count": 65,
   "metadata": {
    "collapsed": false
   },
   "outputs": [
    {
     "name": "stdout",
     "output_type": "stream",
     "text": [
      "1 = Shanghai, 22315474\n",
      "2 = Istanbul, 13710512\n",
      "3 = Delhi, 12877470\n",
      "4 = Mumbai, 12442373\n",
      "5 = Moskva, 11979529\n",
      "6 = Beijing, 11716620\n",
      "7 = São Paulo, 11152344\n",
      "8 = Tianjin, 11090314\n",
      "9 = Guangzhou, 11071424\n",
      "10 = Shenzhen, 10358381\n"
     ]
    }
   ],
   "source": [
    "cities = []\n",
    "populations = []\n",
    "root = document.getroot()\n",
    "for elt_city in root.iter('city'):\n",
    "    cityname = elt_city.find('name').text.encode('utf8')\n",
    "    cities.append(cityname)\n",
    "    max_pop = 0\n",
    "    for elt_pop in elt_city.findall('population'):\n",
    "        pop = int(elt_pop.text)\n",
    "        if pop > max_pop:\n",
    "            max_pop = pop\n",
    "    populations.append(max_pop)\n",
    "    \n",
    "city_population = zip(cities, populations)\n",
    "city_population = sorted(city_population, key=lambda tup: tup[1], reverse=True)\n",
    "for i, tup in enumerate(city_population[:10]):\n",
    "    print \"{} = {}, {}\".format(i+1, tup[0], tup[1]) "
   ]
  },
  {
   "cell_type": "markdown",
   "metadata": {},
   "source": [
    "3) 10 ethnic groups with largest population (sum of latest estimates over all countries)"
   ]
  },
  {
   "cell_type": "code",
   "execution_count": null,
   "metadata": {
    "collapsed": true
   },
   "outputs": [],
   "source": []
  }
 ],
 "metadata": {
  "kernelspec": {
   "display_name": "Python 2",
   "language": "python",
   "name": "python2"
  },
  "language_info": {
   "codemirror_mode": {
    "name": "ipython",
    "version": 2
   },
   "file_extension": ".py",
   "mimetype": "text/x-python",
   "name": "python",
   "nbconvert_exporter": "python",
   "pygments_lexer": "ipython2",
   "version": "2.7.11"
  }
 },
 "nbformat": 4,
 "nbformat_minor": 0
}
